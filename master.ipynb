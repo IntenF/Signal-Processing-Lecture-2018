{
 "cells": [
  {
   "cell_type": "markdown",
   "metadata": {},
   "source": [
    "# [やる夫で学ぶデジタル信号処理](http://www.ic.is.tohoku.ac.jp/~swk/lecture/yaruodsp/main.html)"
   ]
  },
  {
   "cell_type": "markdown",
   "metadata": {},
   "source": [
    "![](https://cdn-ak.f.st-hatena.com/images/fotolife/s/sugatareiji/20160929/20160929003216.gif)"
   ]
  },
  {
   "cell_type": "markdown",
   "metadata": {},
   "source": [
    "# 目標"
   ]
  },
  {
   "cell_type": "markdown",
   "metadata": {},
   "source": [
    "フーリエ変換群を実装して、周波数分析の基本をおさらいしよう"
   ]
  },
  {
   "cell_type": "markdown",
   "metadata": {},
   "source": [
    "numpyとmatplotlib.pyplotをそれぞれnp,pltとしてインポートする"
   ]
  },
  {
   "cell_type": "code",
   "execution_count": 1,
   "metadata": {
    "collapsed": true
   },
   "outputs": [],
   "source": [
    "import numpy as np\n",
    "import matplotlib.pyplot as plt"
   ]
  },
  {
   "cell_type": "markdown",
   "metadata": {},
   "source": [
    "# 1.フーリエ級数展開"
   ]
  },
  {
   "cell_type": "markdown",
   "metadata": {},
   "source": [
    "![](http://www.ic.is.tohoku.ac.jp/~swk/lecture/yaruodsp/img62.png)"
   ]
  },
  {
   "cell_type": "markdown",
   "metadata": {},
   "source": [
    "![](http://www.ic.is.tohoku.ac.jp/~swk/lecture/yaruodsp/img63.png)"
   ]
  },
  {
   "cell_type": "markdown",
   "metadata": {},
   "source": [
    "メモ"
   ]
  },
  {
   "cell_type": "markdown",
   "metadata": {},
   "source": [
    "$\\sum_{k=1}^∞ (a_k cos(\\frac{2\\pi k}{T_0}t) + b_k sin(\\frac{2\\pi k}{T_0}t))$"
   ]
  },
  {
   "cell_type": "markdown",
   "metadata": {},
   "source": [
    "使うデータを用意する。今回は周波数の異なるsin波とcos波の和とする"
   ]
  },
  {
   "cell_type": "markdown",
   "metadata": {},
   "source": [
    "$f(t) = a_0 + a_{sin} sin(2\\pi f_{sin}t) + a_{cos} cos(2\\pi f_{cos}t)$"
   ]
  },
  {
   "cell_type": "code",
   "execution_count": 54,
   "metadata": {
    "collapsed": true
   },
   "outputs": [],
   "source": [
    "def data1(t, a0=1, a_sin=2, f_sin=2, a_cos=3, f_cos=3):\n",
    "    '''\n",
    "    引数説明\n",
    "    t : 秒単位の時間\n",
    "    a : 振幅\n",
    "    f : 周波数\n",
    "    返値説明\n",
    "    float : data1のt秒での値\n",
    "    '''\n",
    "    return a0 + a_sin*np.sin(2*np.pi*f_sin*t) + a_cos*np.cos(2*np.pi*f_cos*t)\n",
    "f = lambda t:data1(t)"
   ]
  },
  {
   "cell_type": "code",
   "execution_count": 55,
   "metadata": {},
   "outputs": [
    {
     "data": {
      "image/png": "[encoded data removed]",
      "text/plain": [
       "<matplotlib.figure.Figure at 0x7f32e60071d0>"
      ]
     },
     "metadata": {},
     "output_type": "display_data"
    }
   ],
   "source": [
    "T0 = 1\n",
    "T = np.arange(-T0/2, T0/2, 0.0001)\n",
    "plt.plot(T, f(T))\n",
    "plt.show()"
   ]
  },
  {
   "cell_type": "markdown",
   "metadata": {},
   "source": [
    "以下の定積分を求めて直流成分を出す"
   ]
  },
  {
   "cell_type": "markdown",
   "metadata": {},
   "source": [
    "![1.7](http://www.ic.is.tohoku.ac.jp/~swk/lecture/yaruodsp/img87.png)"
   ]
  },
  {
   "cell_type": "markdown",
   "metadata": {},
   "source": [
    "と、そのまえに区分求積法で定積分を求める関数を定義"
   ]
  },
  {
   "cell_type": "code",
   "execution_count": 78,
   "metadata": {
    "collapsed": true
   },
   "outputs": [],
   "source": [
    "def integral(f, start_t, end_t, dt=0.0001):\n",
    "    '''\n",
    "    引数説明\n",
    "    f:定積分したい関数。nump.arrayを食える必要がある\n",
    "    start_t:開始時間\n",
    "    end_t:終了時間\n",
    "    dt:微小時間。短いほど良い結果が得やすいが、計算量が増える\n",
    "    返値説明\n",
    "    float : 定積分値\n",
    "    '''\n",
    "    T = np.arange(start_t, end_t, dt)\n",
    "    return f(T).sum()*dt"
   ]
  },
  {
   "cell_type": "markdown",
   "metadata": {},
   "source": [
    "### 課題"
   ]
  },
  {
   "cell_type": "markdown",
   "metadata": {},
   "source": [
    "$a_0$を求めてみよう"
   ]
  },
  {
   "cell_type": "code",
   "execution_count": 79,
   "metadata": {},
   "outputs": [
    {
     "data": {
      "text/plain": [
       "1.0000000000003308"
      ]
     },
     "execution_count": 79,
     "metadata": {},
     "output_type": "execute_result"
    }
   ],
   "source": [
    "integral(f, -T0/2, T0/2)/T0"
   ]
  },
  {
   "cell_type": "markdown",
   "metadata": {},
   "source": [
    "次に、以下の式を使って、それぞれの周波数のを求める"
   ]
  },
  {
   "cell_type": "markdown",
   "metadata": {},
   "source": [
    "$\\displaystyle a_0 = \\frac{1}{T_0}\\int_{-T_0/2}^{T_0/2}f(t)dt$"
   ]
  },
  {
   "cell_type": "markdown",
   "metadata": {},
   "source": [
    "$\\displaystyle a_k = \\frac{2}{T_0} \\int_{-T_0/2}^{T_0/2}f(t) \\cos{\\left(\\frac{2\\pi k}{T_0}t\\right)}dt    (k = 1, 2, 3, \\cdots)$"
   ]
  },
  {
   "cell_type": "markdown",
   "metadata": {},
   "source": [
    "$\\displaystyle b_k = \\frac{2}{T_0} \\int_{-T_0/2}^{T_0/2}f(t) \\sin{\\left(\\frac{2\\pi k}{T_0}t\\right)}dt    (k = 1, 2, 3, \\cdots)$"
   ]
  },
  {
   "cell_type": "markdown",
   "metadata": {},
   "source": [
    "### 課題"
   ]
  },
  {
   "cell_type": "markdown",
   "metadata": {},
   "source": [
    "$a_k$,$b_k$を求めてみよう"
   ]
  },
  {
   "cell_type": "code",
   "execution_count": 87,
   "metadata": {},
   "outputs": [
    {
     "name": "stdout",
     "output_type": "stream",
     "text": [
      "freq=1Hz, a_sin=0.00, a_cos=-0.00\n",
      "freq=2Hz, a_sin=2.00, a_cos=0.00\n",
      "freq=3Hz, a_sin=0.00, a_cos=3.00\n",
      "freq=4Hz, a_sin=-0.00, a_cos=0.00\n"
     ]
    }
   ],
   "source": [
    "T0 = 1\n",
    "for freq in range(1, 5):\n",
    "    a_sin = integral(lambda t:f(t)*np.sin(2*np.pi*freq*t), -T0/2, T0/2)*2/T0    \n",
    "    a_cos = integral(lambda t:f(t)*np.cos(2*np.pi*freq*t), -T0/2, T0/2)*2/T0    \n",
    "    print('freq={}Hz, a_sin={:.2f}, a_cos={:.2f}'.format(freq, a_sin, a_cos))"
   ]
  },
  {
   "cell_type": "markdown",
   "metadata": {},
   "source": [
    "# 2.複素指数関数型のフーリエ級数"
   ]
  },
  {
   "cell_type": "markdown",
   "metadata": {},
   "source": [
    "![2.7](http://www.ic.is.tohoku.ac.jp/~swk/lecture/yaruodsp/img131.png)"
   ]
  },
  {
   "cell_type": "markdown",
   "metadata": {},
   "source": [
    "<P>\n",
    "</DD>\n",
    "<DT><STRONG>やらない夫</STRONG></DT>\n",
    "<DD>各周波数成分が振幅と位相を持つ，という意味ではこの方がわかりやすいのは確かかもしれないな．でも，その sin 関数の中に$\\theta_k$が入ったままの表現だと，数学的にちょっと扱いにくいんだな．だからあまり使われない．"
   ]
  },
  {
   "cell_type": "markdown",
   "metadata": {},
   "source": [
    "オイラーの公式より"
   ]
  },
  {
   "cell_type": "markdown",
   "metadata": {},
   "source": [
    "![](http://www.ic.is.tohoku.ac.jp/~swk/lecture/yaruodsp/img133.png)"
   ]
  },
  {
   "cell_type": "markdown",
   "metadata": {},
   "source": [
    "と表せて、これを使うと$f(t)$が簡単にできて、周波数kの振幅と位相を表す複素数$F_k$を用いれば"
   ]
  },
  {
   "cell_type": "markdown",
   "metadata": {},
   "source": [
    "![](http://www.ic.is.tohoku.ac.jp/~swk/lecture/yaruodsp/img153.png)"
   ]
  },
  {
   "cell_type": "markdown",
   "metadata": {},
   "source": [
    "と表せる。ただし、基本角振動数$\\Omega_0 = \\frac{2\\pi}{T_0}$である"
   ]
  },
  {
   "cell_type": "markdown",
   "metadata": {},
   "source": [
    "ここで、$F_k$を求める式は以下のように与えられる"
   ]
  },
  {
   "cell_type": "markdown",
   "metadata": {},
   "source": [
    "![](http://www.ic.is.tohoku.ac.jp/~swk/lecture/yaruodsp/img178.png)"
   ]
  },
  {
   "cell_type": "markdown",
   "metadata": {},
   "source": [
    "または"
   ]
  },
  {
   "cell_type": "markdown",
   "metadata": {},
   "source": [
    "![](http://www.ic.is.tohoku.ac.jp/~swk/lecture/yaruodsp/img179.png)"
   ]
  },
  {
   "cell_type": "markdown",
   "metadata": {},
   "source": [
    "### 課題"
   ]
  },
  {
   "cell_type": "markdown",
   "metadata": {},
   "source": [
    "複素数を使ったフーリエ級数展開を実装をして、$F_k$を-5～4Hzの間で求めよ"
   ]
  },
  {
   "cell_type": "markdown",
   "metadata": {},
   "source": [
    "- 負の周波数も定義できることに注意しよう\n",
    "- cmathモジュールを使って作ると簡単に実装できる"
   ]
  },
  {
   "cell_type": "code",
   "execution_count": 94,
   "metadata": {},
   "outputs": [
    {
     "name": "stdout",
     "output_type": "stream",
     "text": [
      "freq=-5Hz, F_abs=0.00, F_phi=3.14[rad]\n",
      "freq=-4Hz, F_abs=0.00, F_phi=-0.00[rad]\n",
      "freq=-3Hz, F_abs=1.50, F_phi=0.00[rad]\n",
      "freq=-2Hz, F_abs=1.00, F_phi=1.57[rad]\n",
      "freq=-1Hz, F_abs=0.00, F_phi=3.14[rad]\n",
      "freq=0Hz, F_abs=1.00, F_phi=0.00[rad]\n",
      "freq=1Hz, F_abs=0.00, F_phi=-3.14[rad]\n",
      "freq=2Hz, F_abs=1.00, F_phi=-1.57[rad]\n",
      "freq=3Hz, F_abs=1.50, F_phi=-0.00[rad]\n",
      "freq=4Hz, F_abs=0.00, F_phi=0.00[rad]\n"
     ]
    },
    {
     "data": {
      "image/png": "[encoded data removed]",
      "text/plain": [
       "<matplotlib.figure.Figure at 0x7f32e601b2b0>"
      ]
     },
     "metadata": {},
     "output_type": "display_data"
    },
    {
     "data": {
      "image/png": "[encoded data removed]",
      "text/plain": [
       "<matplotlib.figure.Figure at 0x7f32e61ddd30>"
      ]
     },
     "metadata": {},
     "output_type": "display_data"
    }
   ],
   "source": [
    "import cmath\n",
    "T0 = 1\n",
    "F_k_abs_list = []\n",
    "F_k_phi_list = []\n",
    "for freq in range(-5, 5):\n",
    "    F_k = integral(lambda t:f(t)*np.exp(complex(0, -2*np.pi*freq)*t), -T0/2, T0/2)*1/T0    \n",
    "    F_k_abs_list.append(cmath.polar(F_k)[0])\n",
    "    F_k_phi_list.append(cmath.polar(F_k)[1])\n",
    "    print('freq={}Hz, F_abs={:.2f}, F_phi={:.2f}[rad]'.format(freq, cmath.polar(F_k)[0], cmath.polar(F_k)[1]))\n",
    "\n",
    "plt.plot(np.arange(-5,5), F_k_abs_list)\n",
    "plt.title('$|F_k|$')\n",
    "plt.show()\n",
    "plt.plot(np.arange(-5,5), F_k_phi_list)\n",
    "plt.title('$∡F_k$')\n",
    "plt.show()"
   ]
  },
  {
   "cell_type": "markdown",
   "metadata": {},
   "source": [
    "### 注意"
   ]
  },
  {
   "cell_type": "markdown",
   "metadata": {},
   "source": [
    "**負の周波数**に対して、正の周波数は絶対値では同じ値を持ち、偏角では正負が逆の値を持つ"
   ]
  },
  {
   "cell_type": "markdown",
   "metadata": {},
   "source": [
    "# 3.フーリエ変換"
   ]
  },
  {
   "cell_type": "markdown",
   "metadata": {},
   "source": [
    "### フーリエ変換"
   ]
  },
  {
   "cell_type": "markdown",
   "metadata": {},
   "source": [
    "$\\displaystyle F(\\Omega) = \\int_{-\\infty}^{\\infty} f(t) e^{-j\\Omega t}dt$"
   ]
  },
  {
   "cell_type": "markdown",
   "metadata": {},
   "source": [
    "### 逆フーリエ変換"
   ]
  },
  {
   "cell_type": "markdown",
   "metadata": {},
   "source": [
    "$\\displaystyle f(t) = \\frac{1}{2\\pi}\\int_{-\\infty}^{\\infty} F(\\Omega) e^{j\\Omega t} d\\Omega$"
   ]
  },
  {
   "cell_type": "markdown",
   "metadata": {},
   "source": [
    "これは実装できないので飛ばす"
   ]
  },
  {
   "cell_type": "markdown",
   "metadata": {},
   "source": [
    "# 4と5も飛ばす"
   ]
  },
  {
   "cell_type": "markdown",
   "metadata": {},
   "source": [
    "# 6.離散フーリエ変換"
   ]
  },
  {
   "cell_type": "markdown",
   "metadata": {},
   "source": [
    "離散時間フーリエ変換/逆変換の公式"
   ]
  },
  {
   "cell_type": "markdown",
   "metadata": {},
   "source": [
    "$\\displaystyle F(\\omega) = \\sum_{n = -\\infty}^{\\infty} f[n] e^{-j\\omega n}$"
   ]
  },
  {
   "cell_type": "markdown",
   "metadata": {},
   "source": [
    "$\\displaystyle f[n] = \\frac{1}{2\\pi}\\int_{-\\pi}^{\\pi} F(\\omega) e^{j\\omega n} d\\omega$"
   ]
  },
  {
   "cell_type": "markdown",
   "metadata": {},
   "source": [
    "これを周波数に対しても離散化したい。つまり、時間領域では周期的な信号を扱いたい"
   ]
  },
  {
   "cell_type": "markdown",
   "metadata": {},
   "source": [
    "### 離散フーリエ変換"
   ]
  },
  {
   "cell_type": "markdown",
   "metadata": {},
   "source": [
    "$\\displaystyle F[k] = \\sum_{n = 0}^{N-1} f[n] e^{-j \\frac{2\\pi}{N}kn}     (k = 0, 1, \\cdots, N-1)$"
   ]
  },
  {
   "cell_type": "markdown",
   "metadata": {},
   "source": [
    "### 離散フーリエ逆変換"
   ]
  },
  {
   "cell_type": "markdown",
   "metadata": {},
   "source": [
    "$\\displaystyle f[n] = \\frac{1}{N} \\sum_{k = 0}^{N-1} F[k] e^{j\\frac{2\\pi}{N} kn}     (n = 0, 1, \\cdots, N-1)$"
   ]
  },
  {
   "cell_type": "markdown",
   "metadata": {},
   "source": [
    "### 課題"
   ]
  },
  {
   "cell_type": "markdown",
   "metadata": {},
   "source": [
    "離散フーリエ変換、逆変換を実装して、「信号を周波数に分解できていること」、「もとの信号に戻せていること」の二つを確認する"
   ]
  },
  {
   "cell_type": "markdown",
   "metadata": {},
   "source": [
    "まずはサンプリングするとよい。このときサンプリング周波数は$f_s$10Hzと100Hzの2つで試すこと"
   ]
  },
  {
   "cell_type": "markdown",
   "metadata": {},
   "source": [
    "実際には3Hzほどの信号を見分けるだけならサンプリング定理より$f_s = 6Hz$でも十分である。ただし、見栄えが悪くなる"
   ]
  },
  {
   "cell_type": "code",
   "execution_count": 132,
   "metadata": {},
   "outputs": [
    {
     "data": {
      "image/png": "[encoded data removed]",
      "text/plain": [
       "<matplotlib.figure.Figure at 0x7f32e60fb0b8>"
      ]
     },
     "metadata": {},
     "output_type": "display_data"
    },
    {
     "data": {
      "image/png": "[encoded data removed]",
      "text/plain": [
       "<matplotlib.figure.Figure at 0x7f32e5519278>"
      ]
     },
     "metadata": {},
     "output_type": "display_data"
    }
   ],
   "source": [
    "import cmath\n",
    "f = lambda t:data1(t)\n",
    "T0 = 1\n",
    "fs = 100\n",
    "sample_time = np.arange(-T0/2, T0/2, 1/fs)\n",
    "N = len(sample_time)\n",
    "data = f(sample_time)\n",
    "plt.plot(sample_time, data)\n",
    "plt.title('data')\n",
    "plt.xlabel('t')\n",
    "plt.show()\n",
    "F = []\n",
    "for k in range(0, N):\n",
    "    s = 0\n",
    "    for n in range(0, N):\n",
    "        s += data[n]*np.exp(complex(0, -2*np.pi)*k*n/N)\n",
    "    F.append(s)\n",
    "    if N <= 10:\n",
    "        print('k={}, F_abs={:.2f}, F_phi={:.2f}[rad]'.format(k, cmath.polar(s)[0], cmath.polar(s)[1]))\n",
    "F = np.array(F)\n",
    "if N > 10:\n",
    "    plt.plot(fs/N*np.arange(0,10), abs(F)[:10])\n",
    "else:\n",
    "    plt.plot(fs/N*np.arange(0,N), abs(F)[:N])\n",
    "plt.title('$|F_k|$')\n",
    "plt.xlabel('Hz')\n",
    "plt.show()"
   ]
  },
  {
   "cell_type": "code",
   "execution_count": 133,
   "metadata": {},
   "outputs": [
    {
     "data": {
      "image/png": "[encoded data removed]",
      "text/plain": [
       "<matplotlib.figure.Figure at 0x7f32e5f76e80>"
      ]
     },
     "metadata": {},
     "output_type": "display_data"
    }
   ],
   "source": [
    "f = []\n",
    "for n in range(0, N):\n",
    "    s = 0\n",
    "    for k in range(0, N):\n",
    "        s += F[k]*np.exp(complex(0, 2*np.pi)*k*n/N)/N\n",
    "    f.append(s)\n",
    "    if N <= 10:\n",
    "        print('k={}, F_abs={:.2f}, F_phi={:.2f}[rad]'.format(k, cmath.polar(s)[0], cmath.polar(s)[1]))\n",
    "f = np.array(f)\n",
    "plt.plot(T0/N*np.arange(0,N), f.real[:N])\n",
    "plt.title('$f$')\n",
    "plt.xlabel('t')\n",
    "plt.show()"
   ]
  },
  {
   "cell_type": "code",
   "execution_count": null,
   "metadata": {
    "collapsed": true
   },
   "outputs": [],
   "source": []
  }
 ],
 "metadata": {
  "kernelspec": {
   "display_name": "Python 3",
   "language": "python",
   "name": "python3"
  },
  "language_info": {
   "codemirror_mode": {
    "name": "ipython",
    "version": 3
   },
   "file_extension": ".py",
   "mimetype": "text/x-python",
   "name": "python",
   "nbconvert_exporter": "python",
   "pygments_lexer": "ipython3",
   "version": "3.6.1"
  }
 },
 "nbformat": 4,
 "nbformat_minor": 2
}
